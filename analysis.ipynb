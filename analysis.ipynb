{
 "cells": [
  {
   "cell_type": "code",
   "execution_count": null,
   "id": "5dbe4823",
   "metadata": {},
   "outputs": [],
   "source": [
    "%matplotlib notebook\n",
    "import os\n",
    "import time\n",
    "import platform\n",
    "\n",
    "import numpy as np\n",
    "import matplotlib.pyplot as plt\n",
    "\n",
    "import torch\n",
    "import torch.nn as nn\n",
    "import torch.optim as optim\n",
    "\n",
    "import schemes_dev as sc\n",
    "import pandas as pd\n",
    "\n",
    "plt.rcParams.update({\n",
    "    \"text.usetex\": True,\n",
    "    \"font.family\": \"sans-serif\",\n",
    "    \"font.sans-serif\": \"Helvetica\",\n",
    "})\n"
   ]
  },
  {
   "cell_type": "code",
   "execution_count": null,
   "id": "a8084c5a",
   "metadata": {},
   "outputs": [],
   "source": [
    "class model_param:\n",
    "    def __init__(self):\n",
    "        self.adjoint = False    # Method of integration\n",
    "        self.batch_time=30     # Time duration of training batch in terms of Δt steps\n",
    "        self.batch_size=30     # Number of batches of training data\n",
    "        self.lr = 1e-4         # Learning rate for model parameters\n",
    "        self.lr_τ = 1e-5       # Leaning rate delay vector τ\n",
    "        self.Nc = 40         # Maximum delay in terms of Δt steps\n",
    "        self.niters=2000       # Maximum number of iterations\n",
    "        self.test_freq=1       # Testing frequency in terms of iterations (for print and plot)\n",
    "        self.viz=True          # Visualization\n",
    "        self.savefig= True     # Set True to save figure\n",
    "        self.folder='output_folder'   # folder name to store output\n",
    "        self.use_gpu = False\n",
    "        self.restart = False\n",
    "        self.gpu = 0\n",
    "        self.datafile = \"path_to_data_file.txt\"\n",
    "        self.dimensions = 4\n",
    "        \n",
    "    def to(self, device):\n",
    "        args_dir = dir(self)\n",
    "        for var in args_dir:\n",
    "            if type(getattr(self, var)) == int or type(getattr(self, var)) == int:\n",
    "                exec('self.'+var+'=torch.tensor(self.'+var+').to(device)')\n",
    "                #print(var+'='+ str(getattr(self,var)))\n"
   ]
  },
  {
   "cell_type": "code",
   "execution_count": null,
   "id": "1afe7080",
   "metadata": {},
   "outputs": [],
   "source": [
    "param_df = pd.read_csv(\"Lorenz/Param.csv\")\n",
    "column_name = list(param_df.keys())"
   ]
  },
  {
   "cell_type": "code",
   "execution_count": null,
   "id": "c44bb226",
   "metadata": {},
   "outputs": [],
   "source": [
    "def fun_run(i):\n",
    "    args = model_param()\n",
    "    for var in column_name[1:]:\n",
    "        #print('args.lr_τ=param_df.iloc['+str(i)+'][\"'+var+'\"]')\n",
    "        if var=='lr_tau':\n",
    "            exec('args.lr_τ=param_df.iloc['+str(i)+'][\"'+var+'\"]')\n",
    "        else:\n",
    "            exec('args.'+var+'=param_df.iloc['+str(i)+'][\"'+var+'\"]')\n",
    "    return args"
   ]
  },
  {
   "cell_type": "code",
   "execution_count": null,
   "id": "2b1474f5",
   "metadata": {},
   "outputs": [],
   "source": [
    "args_all = []\n",
    "loss_all = []\n",
    "delay_all = []"
   ]
  },
  {
   "cell_type": "code",
   "execution_count": null,
   "id": "3c650d75",
   "metadata": {},
   "outputs": [],
   "source": [
    "for i in range(len(param_df)):\n",
    "    args_all.append(fun_run(i))\n",
    "    folder = args_all[i].folder\n",
    "    loss_all.append(np.loadtxt(folder+'/loss.txt'))\n",
    "    delay_all.append(np.loadtxt(folder+'/delay.txt'))"
   ]
  },
  {
   "cell_type": "code",
   "execution_count": null,
   "id": "b4d76730",
   "metadata": {},
   "outputs": [],
   "source": [
    "diff = 'datafile' # How to catagorize data"
   ]
  },
  {
   "cell_type": "markdown",
   "id": "547adbbb",
   "metadata": {},
   "source": [
    "# Loss plots"
   ]
  },
  {
   "cell_type": "code",
   "execution_count": null,
   "id": "278f6181",
   "metadata": {},
   "outputs": [],
   "source": [
    "catagory = {'Clean':[],'Noisy':[]}\n",
    "catagory_keys = list(catagory.keys())"
   ]
  },
  {
   "cell_type": "code",
   "execution_count": null,
   "id": "4ee2c629",
   "metadata": {},
   "outputs": [],
   "source": [
    "for i in range(len(param_df)):\n",
    "    loss_avg = np.mean(loss_all[i][-100:])\n",
    "    dim = args_all[i].__dict__['dimensions']\n",
    "    \n",
    "    for key in catagory_keys: \n",
    "        if key.lower() in args_all[i].__dict__[diff].lower():\n",
    "            catagory[key].append([dim, loss_avg])"
   ]
  },
  {
   "cell_type": "code",
   "execution_count": null,
   "id": "3bb6d48c",
   "metadata": {},
   "outputs": [],
   "source": [
    "arr_plot = np.array(catagory['Noisy'])"
   ]
  },
  {
   "cell_type": "code",
   "execution_count": null,
   "id": "dd629d81",
   "metadata": {},
   "outputs": [],
   "source": [
    "fig = plt.figure()\n",
    "axs = fig.add_subplot(1,1,1)\n",
    "axs.plot(arr_plot[:,0],arr_plot[:,1])"
   ]
  }
 ],
 "metadata": {
  "kernelspec": {
   "display_name": "venv_psr",
   "language": "python",
   "name": "venv_psr"
  }
 },
 "nbformat": 4,
 "nbformat_minor": 5
}
