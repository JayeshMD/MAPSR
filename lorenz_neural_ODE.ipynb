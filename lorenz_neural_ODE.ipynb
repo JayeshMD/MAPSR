{
 "cells": [
  {
   "cell_type": "markdown",
   "id": "22abb8e4",
   "metadata": {},
   "source": [
    "# Model adaptive phase space reconstruction"
   ]
  },
  {
   "cell_type": "code",
   "execution_count": null,
   "id": "076f2f29",
   "metadata": {},
   "outputs": [],
   "source": [
    "%matplotlib notebook\n",
    "import os\n",
    "import time\n",
    "import numpy as np\n",
    "import matplotlib.pyplot as plt\n",
    "\n",
    "import torch\n",
    "import torch.nn as nn\n",
    "import torch.optim as optim\n",
    "\n",
    "import schemes as sc\n",
    "import dynamicalsystems as dyns"
   ]
  },
  {
   "cell_type": "markdown",
   "id": "df096920",
   "metadata": {},
   "source": [
    "# Define parameters"
   ]
  },
  {
   "cell_type": "code",
   "execution_count": null,
   "id": "da5ecf41",
   "metadata": {},
   "outputs": [],
   "source": [
    "class model_param:\n",
    "    def __init__(self):\n",
    "        self.method = sc.rk4   # Method of integration\n",
    "        self.batch_time=20     # Time duration of training batch in terms of Δt steps\n",
    "        self.batch_size=300    # Number of batches of training data\n",
    "        self.lr = 1e-6         # Learning rate for model parameters\n",
    "        self.lr_τ = 1e-6       # Leaning rate delay vector τ\n",
    "        self.Nc = 200          # Maximum delay in terms of Δt steps\n",
    "        self.niters=20000      # Maximum number of iterations\n",
    "        self.test_freq=100     # Testing frequency in terms of iterations (for print and plot)\n",
    "        self.viz=True          # Visualization\n",
    "        self.savefig= True     # Set True to save figure\n",
    "        self.folder='output_Lorenz_neural'   # folder name to store output\n",
    "        self.gpu=0             # GPU to be used (not yet implemented)"
   ]
  },
  {
   "cell_type": "code",
   "execution_count": null,
   "id": "50ebb045",
   "metadata": {},
   "outputs": [],
   "source": [
    "args = model_param()"
   ]
  },
  {
   "cell_type": "markdown",
   "id": "17429ecd",
   "metadata": {},
   "source": [
    "# Define device"
   ]
  },
  {
   "cell_type": "code",
   "execution_count": null,
   "id": "168f5ef5",
   "metadata": {},
   "outputs": [],
   "source": [
    "device = torch.device('cuda:' + str(args.gpu) if torch.cuda.is_available() else 'cpu')\n",
    "device = torch.device('cpu')   # Remove once code is compatible with gpu "
   ]
  },
  {
   "cell_type": "markdown",
   "id": "013594d4",
   "metadata": {},
   "source": [
    "# Folder to save output"
   ]
  },
  {
   "cell_type": "code",
   "execution_count": null,
   "id": "0fc0221e",
   "metadata": {},
   "outputs": [],
   "source": [
    "try:\n",
    "    os.mkdir(args.folder)\n",
    "except:\n",
    "    response = input(\"Warning: Folder alrady exist. Figures will be replaced. Do you want to replace? (y/n)\")\n",
    "    if response.lower()!='y':\n",
    "        args.savefig= False"
   ]
  },
  {
   "cell_type": "markdown",
   "id": "07c22c3b",
   "metadata": {},
   "source": [
    "# Generate Time Series"
   ]
  },
  {
   "cell_type": "code",
   "execution_count": null,
   "id": "e0b13828",
   "metadata": {},
   "outputs": [],
   "source": [
    "t_true = torch.linspace(0, 120, 12001)\n",
    "x_data = torch.tensor([1,1,0]).reshape(1,-1) # Initial Condition\n",
    "param  = [10., 28., 8./3.] # [σ, ρ, β]\n",
    "\n",
    "dt  = t_true[1] - t_true[0]\n",
    "fun = lambda t,x: dyns.Lorenz(x,param)\n",
    "for i in range(1, len(t_true)):\n",
    "    x_data = torch.cat([x_data, sc.rk4(fun, t_true, x_data[i-1,:], dt).reshape(1,-1)], 0)\n",
    "    \n",
    "fig = plt.figure()\n",
    "axs = fig.add_subplot(1, 1, 1)\n",
    "label = ['x','y','z']\n",
    "[axs.plot(t_true, x_data[:,i], label = label[i]) for i in range(x_data.shape[1])]\n",
    "axs.set_xlim([min(t_true), max(t_true)])\n",
    "axs.set_xlabel('t')\n",
    "plt.legend()\n",
    "plt.show()"
   ]
  },
  {
   "cell_type": "markdown",
   "id": "b1c3d8ac",
   "metadata": {},
   "source": [
    "# Normalized time series"
   ]
  },
  {
   "cell_type": "code",
   "execution_count": null,
   "id": "9a051a6e",
   "metadata": {},
   "outputs": [],
   "source": [
    "N_ts = 10000\n",
    "t_true = t_true[0:N_ts]\n",
    "x_data_sam   = x_data[-len(t_true):,:]\n",
    "\n",
    "##################################\n",
    "x_data = x_data_sam- x_data_sam.mean(0)\n",
    "x_data = x_data/x_data.abs().max(0).values\n",
    "##################################\n",
    "\n",
    "fig = plt.figure()\n",
    "axs = fig.add_subplot(1, 1, 1)\n",
    "\n",
    "label = ['x','y','z']\n",
    "[axs.plot(t_true, x_data[:,i], label = label[i]) for i in range(x_data.shape[1])]\n",
    "axs.set_xlim([min(t_true), max(t_true)])\n",
    "axs.set_xlabel('t')\n",
    "plt.legend()\n",
    "plt.show()\n",
    "\n",
    "if x_data.shape[1]==3:\n",
    "    fig = plt.figure()\n",
    "    axs = fig.add_subplot(projection='3d')\n",
    "    axs.plot(x_data[:,0], x_data[:,1], x_data[:,2])\n",
    "    plt.show()"
   ]
  },
  {
   "cell_type": "markdown",
   "id": "7aa9abb3",
   "metadata": {},
   "source": [
    "# Observed data"
   ]
  },
  {
   "cell_type": "code",
   "execution_count": null,
   "id": "157adec3",
   "metadata": {},
   "outputs": [],
   "source": [
    "x_true = x_data[:,0]\n",
    "t_true = t_true"
   ]
  },
  {
   "cell_type": "markdown",
   "id": "86770c8f",
   "metadata": {},
   "source": [
    "# Time step"
   ]
  },
  {
   "cell_type": "code",
   "execution_count": null,
   "id": "51c55d5a",
   "metadata": {},
   "outputs": [],
   "source": [
    "dt = t_true[1] - t_true[0]"
   ]
  },
  {
   "cell_type": "markdown",
   "id": "2b79be57",
   "metadata": {},
   "source": [
    "# Method to creates batch_size number of batches of true data of batch_time duration"
   ]
  },
  {
   "cell_type": "code",
   "execution_count": null,
   "id": "21855d17",
   "metadata": {},
   "outputs": [],
   "source": [
    "def get_batch(t, x, Nc, τ, batch_time, batch_size):\n",
    "    dt = t[1]-t[0]\n",
    "    assert τ.max()<Nc*dt, \"Maximum value of delay should be less than Nc*dt=\"+str(Nc*dt)+'.'\n",
    "    z_true = sc.interp_linear(t, x, Nc, τ)\n",
    "    id_sel = torch.randint(0, z_true.shape[0] - batch_time-1, (batch_size,))\n",
    "    z_true_stack = torch.stack([z_true[id_sel + i, :] for i in range(batch_time)], dim=0)\n",
    "    t_true_stack = torch.stack([t_true[id_sel + i] for i in range(batch_time)], dim=0)\n",
    "    return t_true_stack.to(device), z_true_stack.to(device)"
   ]
  },
  {
   "cell_type": "markdown",
   "id": "53b6fdaf",
   "metadata": {},
   "source": [
    "# Integrate the <i>fun</i> from initial state $z_0$ for given time array $t$"
   ]
  },
  {
   "cell_type": "code",
   "execution_count": null,
   "id": "ae85af9e",
   "metadata": {},
   "outputs": [],
   "source": [
    "def get_pred(fun, z0, t):\n",
    "    dt = len(t)\n",
    "    z_pred = z0\n",
    "    for i in range(1, len(t)):\n",
    "        z_next = args.method(fun, t[i], z_pred[i - 1, :, :], dt)\n",
    "        z_pred = torch.cat([z_pred, z_next.reshape(1, z_pred.shape[1], z_pred.shape[2])], 0)\n",
    "    return z_pred"
   ]
  },
  {
   "cell_type": "markdown",
   "id": "32076e68",
   "metadata": {},
   "source": [
    "# Define ODE (To avoid changes in program at other location degree is specified inside the class)"
   ]
  },
  {
   "cell_type": "code",
   "execution_count": null,
   "id": "db1f2c2e",
   "metadata": {},
   "outputs": [],
   "source": [
    "class ODEFunc(nn.Module):\n",
    "    \n",
    "    def __init__(self, n):\n",
    "        super(ODEFunc, self).__init__()\n",
    "\n",
    "        self.net = nn.Sequential(\n",
    "            nn.Linear(n, n+50),\n",
    "            nn.Tanh(),\n",
    "            nn.Linear(n+50, n),\n",
    "        )\n",
    "\n",
    "        for m in self.net.modules():\n",
    "            if isinstance(m, nn.Linear):\n",
    "                nn.init.normal_(m.weight, mean=0, std=0.001)\n",
    "                nn.init.constant_(m.bias, val=0)\n",
    "\n",
    "    def forward(self, t, y):\n",
    "        return self.net(y)  "
   ]
  },
  {
   "cell_type": "markdown",
   "id": "c368bc13",
   "metadata": {},
   "source": [
    "# Function to modify delay vector and return modified ODE function "
   ]
  },
  {
   "cell_type": "code",
   "execution_count": null,
   "id": "1574ce33",
   "metadata": {},
   "outputs": [],
   "source": [
    "def get_fun(func, optimizer, optimizer_τ, lr, lr_τ, τ, acc):\n",
    "    l_0 = len(τ)\n",
    "    τ = sc.merge(τ, acc)\n",
    "    \n",
    "    if l_0>len(τ):\n",
    "        print('Merged τ:',τ)\n",
    "        func = ODEFunc(n=len(τ))\n",
    "        \n",
    "    τ = torch.tensor(τ.detach().numpy(), device=device, requires_grad=True)\n",
    "    optimizer = optim.RMSprop(func.parameters(), lr=lr)   # lr=1e-4\n",
    "    optimizer_τ = optim.RMSprop([τ], lr=lr_τ)             # lr=1e-6 => Gives ok results\n",
    "    \n",
    "    return func, optimizer, optimizer_τ, τ"
   ]
  },
  {
   "cell_type": "code",
   "execution_count": null,
   "id": "08e78bda",
   "metadata": {},
   "outputs": [],
   "source": [
    "def plot_cmp(fig, title, kk, tt,zt, tp,zp):\n",
    "    plt.clf()\n",
    "    fig.set_size_inches(6, (zt.shape[2]-1)*8, forward=True)\n",
    "    axs_arr = [fig.add_subplot(zt.shape[2]-1,1,i+1) for i in range(zt.shape[2]-1)] \n",
    "    for p_id in range(args.batch_size):\n",
    "        for i in range(zt.shape[2]-1):\n",
    "            axs_arr[i].plot(zt[:, p_id, 0].detach().numpy(), zt[:, p_id, i+1].detach().numpy(),'k-')\n",
    "            axs_arr[i].plot(zp[:, p_id, 0].detach().numpy(), zp[:, p_id, i+1].detach().numpy(),'r--', linewidth=2)\n",
    "            axs_arr[i].set_title(title)\n",
    "            axs_arr[i].set_xlabel('x(t)',fontsize=20)\n",
    "            axs_arr[i].set_ylabel('x(t+$\\\\tau_'+str(i+1)+'$)',fontsize=20)\n",
    "            plt.tight_layout()\n",
    "        \n",
    "    plt.show(block=False)\n",
    "    fig.canvas.draw()\n",
    "    \n",
    "    if args.savefig:\n",
    "        fig_name = args.folder+'/'+str(kk)+'.png'\n",
    "        print('Saving figure:', fig_name)\n",
    "        plt.savefig(fig_name)\n",
    "    plt.pause(0.001)"
   ]
  },
  {
   "cell_type": "markdown",
   "id": "a581e38b",
   "metadata": {},
   "source": [
    "# Initialize delay vector $\\tau$ and $acc$. If $|\\tau_i-\\tau_j|<acc$ then $\\tau_i$ and $\\tau_j$ will merge"
   ]
  },
  {
   "cell_type": "code",
   "execution_count": null,
   "id": "b5da8328",
   "metadata": {},
   "outputs": [],
   "source": [
    "τ = torch.tensor((torch.linspace(0,20,4)*dt).detach().numpy(), device=device, dtype=torch.float, requires_grad=True)\n",
    "acc = 0.5*dt"
   ]
  },
  {
   "cell_type": "markdown",
   "id": "9a33a4be",
   "metadata": {},
   "source": [
    "# Initialize function and optimizer"
   ]
  },
  {
   "cell_type": "code",
   "execution_count": null,
   "id": "808e48ac",
   "metadata": {},
   "outputs": [],
   "source": [
    "func = ODEFunc(n=len(τ))\n",
    "optimizer = optim.RMSprop(func.parameters(), lr=args.lr)\n",
    "optimizer_τ = optim.RMSprop([τ], lr=args.lr_τ)"
   ]
  },
  {
   "cell_type": "markdown",
   "id": "5c7a8168",
   "metadata": {},
   "source": [
    "# Main function"
   ]
  },
  {
   "cell_type": "code",
   "execution_count": null,
   "id": "213f0449",
   "metadata": {
    "scrolled": false
   },
   "outputs": [],
   "source": [
    "fig = plt.figure(figsize=[6,8])\n",
    "\n",
    "for kk in range(args.niters):\n",
    "    func, optimizer, optimizer_τ, τ = get_fun(func, optimizer, optimizer_τ, args.lr, args.lr_τ, τ, acc)\n",
    "    \n",
    "    optimizer.zero_grad()\n",
    "    optimizer_τ.zero_grad()\n",
    "    \n",
    "    t_batch, z_batch = get_batch(t_true, x_true, args.Nc, τ, args.batch_time, args.batch_size)\n",
    "    z_pred = get_pred(func, z_batch[0,:,:].reshape(1, z_batch.shape[1], z_batch.shape[2]), t_batch[:,0])\n",
    "    loss = torch.mean(torch.abs(z_pred - z_batch))\n",
    "    loss.backward()\n",
    "    #print('loss:',loss)\n",
    "    optimizer.step()\n",
    "    \n",
    "    if kk>300:\n",
    "        optimizer_τ.step()\n",
    "        with torch.no_grad():\n",
    "            τ[0] = 0.0\n",
    "        \n",
    "    if kk%args.test_freq==0:\n",
    "        print('Iter:',kk)\n",
    "        print('τ:',τ)\n",
    "        #print('w0:',func.parameters())\n",
    "        plot_cmp(fig, 'Iter:'+ str(kk)+', '+'$\\\\tau$='+str(τ.detach().numpy()), kk, t_batch, z_batch, t_batch, z_pred)\n",
    "    "
   ]
  }
 ],
 "metadata": {
  "kernelspec": {
   "display_name": "Python 3 (ipykernel)",
   "language": "python",
   "name": "python3"
  },
  "language_info": {
   "codemirror_mode": {
    "name": "ipython",
    "version": 3
   },
   "file_extension": ".py",
   "mimetype": "text/x-python",
   "name": "python",
   "nbconvert_exporter": "python",
   "pygments_lexer": "ipython3",
   "version": "3.9.9"
  }
 },
 "nbformat": 4,
 "nbformat_minor": 5
}
