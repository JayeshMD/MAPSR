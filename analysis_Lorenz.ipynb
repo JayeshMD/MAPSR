{
 "cells": [
  {
   "cell_type": "code",
   "execution_count": null,
   "id": "5dbe4823",
   "metadata": {},
   "outputs": [],
   "source": [
    "%matplotlib inline\n",
    "import sys\n",
    "\n",
    "import numpy as np\n",
    "import pandas as pd\n",
    "import pickle as pkl\n",
    "import torch\n",
    "import matplotlib.pyplot as plt                 \n",
    "import matplotlib.ticker as tck\n",
    "\n",
    "# From mapsr \n",
    "import mapsr\n",
    "import schemes_dev as sc\n",
    "import ami_fnn_method as afm\n",
    "import pecuzal_method as pecuzal\n",
    "import post_process_mapsr\n",
    "\n",
    "from post_process_mapsr import pp_mapsr\n",
    "\n",
    "plt.rcParams.update({\n",
    "    \"text.usetex\": True,\n",
    "    \"font.family\": \"sans-serif\",\n",
    "    \"font.sans-serif\": \"Helvetica\",\n",
    "})"
   ]
  },
  {
   "cell_type": "markdown",
   "id": "6bc787ce",
   "metadata": {},
   "source": [
    "# Load parameters of the MAPSR run"
   ]
  },
  {
   "cell_type": "code",
   "execution_count": null,
   "id": "1afe7080",
   "metadata": {},
   "outputs": [],
   "source": [
    "base_fld = 'Lorenz'\n",
    "param_file = base_fld+\"/Param.csv\"\n",
    "\n",
    "ppm = pp_mapsr(param_file=param_file)"
   ]
  },
  {
   "cell_type": "code",
   "execution_count": null,
   "id": "b4d76730",
   "metadata": {},
   "outputs": [],
   "source": [
    "data_files = ppm.get_data_files()\n",
    "data_files"
   ]
  },
  {
   "cell_type": "markdown",
   "id": "547adbbb",
   "metadata": {},
   "source": [
    "# Compute average training loss over last $n$ iterations "
   ]
  },
  {
   "cell_type": "code",
   "execution_count": null,
   "id": "4ee2c629",
   "metadata": {},
   "outputs": [],
   "source": [
    "ppm.set_loss_average(n=100)\n",
    "ppm.set_delay_details()"
   ]
  },
  {
   "attachments": {},
   "cell_type": "markdown",
   "id": "9b812209",
   "metadata": {},
   "source": [
    "# Case name referes to individual data file and will appear in result table and further analysis "
   ]
  },
  {
   "cell_type": "code",
   "execution_count": null,
   "id": "f6f70e55",
   "metadata": {},
   "outputs": [],
   "source": [
    "data_files"
   ]
  },
  {
   "cell_type": "code",
   "execution_count": null,
   "id": "1a7392c4",
   "metadata": {},
   "outputs": [],
   "source": [
    "case_names = ['Noise level: 0\\%', \n",
    "              'Noise level: 1\\%', \n",
    "              'Noise level: 2\\%', \n",
    "              'Noise level: 3\\%', \n",
    "              'Noise level: 4\\%', \n",
    "              'Noise level: 5\\%']\n",
    "ppm.set_case_names(case_names)\n",
    "ppm.case_names"
   ]
  },
  {
   "cell_type": "markdown",
   "id": "e12fef42",
   "metadata": {},
   "source": [
    "# Set variable names for input time series (can be in latex format without \\$ symbol)"
   ]
  },
  {
   "cell_type": "code",
   "execution_count": null,
   "id": "c8b7cca8",
   "metadata": {},
   "outputs": [],
   "source": [
    "ppm.get_time_series_index()"
   ]
  },
  {
   "cell_type": "code",
   "execution_count": null,
   "id": "a41b969f",
   "metadata": {},
   "outputs": [],
   "source": [
    "var_names = ['x']\n",
    "ppm.set_var_names(var_names=var_names)\n",
    "ppm.var_names"
   ]
  },
  {
   "cell_type": "markdown",
   "id": "2ccead70",
   "metadata": {},
   "source": [
    "# Plot MAPSR result"
   ]
  },
  {
   "cell_type": "code",
   "execution_count": null,
   "id": "03abef29",
   "metadata": {},
   "outputs": [],
   "source": [
    "fig, axs = plt.subplots(ncols=2, nrows=ppm.n_var)\n",
    "axs = axs.reshape(ppm.n_var, 2)\n",
    "fig.set_size_inches(15,8)\n",
    "axs_loss, axs_delay = ppm.plot_mapsr_results(fig, axs, title_legend = 'Noise Level', ncol_legend = 2)\n",
    "axs_loss.set_ylim([-2,0])\n",
    "axs_delay[0].set_xlim([0,20000])\n",
    "axs_delay[0].set_xlim([0,20000])"
   ]
  },
  {
   "cell_type": "markdown",
   "id": "d3ee5310",
   "metadata": {},
   "source": [
    "# Create table for MAPSR"
   ]
  },
  {
   "cell_type": "markdown",
   "id": "e35c2eb8",
   "metadata": {},
   "source": [
    "Here tab_mapsr is in latex format and tab_mapsr_pd is used for storing results and can be readily used for analysis. "
   ]
  },
  {
   "cell_type": "code",
   "execution_count": null,
   "id": "c4c1be55",
   "metadata": {},
   "outputs": [],
   "source": [
    "norm_fact = 1e2 # Delay values will be multiplied by this number\n",
    "tab_mapsr, tab_mapsr_pd = ppm.create_table(norm_fact=norm_fact)"
   ]
  },
  {
   "cell_type": "code",
   "execution_count": null,
   "id": "a6389fa2",
   "metadata": {},
   "outputs": [],
   "source": [
    "tab_mapsr"
   ]
  },
  {
   "cell_type": "code",
   "execution_count": null,
   "id": "b55ab8f8",
   "metadata": {},
   "outputs": [],
   "source": [
    "tab_mapsr_pd"
   ]
  },
  {
   "cell_type": "markdown",
   "id": "ada19a45",
   "metadata": {},
   "source": [
    "# AMI-FNN"
   ]
  },
  {
   "cell_type": "code",
   "execution_count": null,
   "id": "a7967eb8",
   "metadata": {},
   "outputs": [],
   "source": [
    "pp_ami_fnn = afm.ami_fnn_analysis(param_file, ppm.var_names, ppm.case_names)\n",
    "pp_ami_fnn.sampling_time"
   ]
  },
  {
   "cell_type": "code",
   "execution_count": null,
   "id": "1e7ea7cb",
   "metadata": {},
   "outputs": [],
   "source": [
    "sampling_time = 1e-2\n",
    "pp_ami_fnn.change_sampling_time(sampling_time=sampling_time)"
   ]
  },
  {
   "cell_type": "code",
   "execution_count": null,
   "id": "3e783f6b",
   "metadata": {},
   "outputs": [],
   "source": [
    "ppm.get_time_series_index()"
   ]
  },
  {
   "cell_type": "code",
   "execution_count": null,
   "id": "9438a4da",
   "metadata": {},
   "outputs": [],
   "source": [
    "time_series_id = 0\n",
    "pp_ami_fnn.set_time_series_id(time_series_id)"
   ]
  },
  {
   "cell_type": "code",
   "execution_count": null,
   "id": "9cfdb0b4",
   "metadata": {},
   "outputs": [],
   "source": [
    "ami_fnn_compute = True\n",
    "ami_fnn_save = True"
   ]
  },
  {
   "cell_type": "code",
   "execution_count": null,
   "id": "30de9606",
   "metadata": {},
   "outputs": [],
   "source": [
    "if ami_fnn_compute:\n",
    "    pp_ami_fnn.get_ami_fnn(fnn_th_per = 1)\n",
    "    if ami_fnn_save:\n",
    "        with open(base_fld+'/AMI_FNN_Lorenz.pkl','wb') as f:\n",
    "            pkl.dump(pp_ami_fnn, f)  \n",
    "else:\n",
    "    with open(base_fld+'/AMI_FNN_Lorenz.pkl','rb') as f:\n",
    "        pp_ami_fnn = pkl.load(f)"
   ]
  },
  {
   "cell_type": "code",
   "execution_count": null,
   "id": "1d6da65b",
   "metadata": {},
   "outputs": [],
   "source": [
    "pp_ami_fnn.plot_ami_fnn(folder = base_fld, save=True)"
   ]
  },
  {
   "cell_type": "markdown",
   "id": "a394d33b",
   "metadata": {},
   "source": [
    "# Create table for AMI-FNN method"
   ]
  },
  {
   "cell_type": "code",
   "execution_count": null,
   "id": "c4482701",
   "metadata": {},
   "outputs": [],
   "source": [
    "tab_ami_fnn = pp_ami_fnn.create_table(ppm.case_names, norm_fact)\n",
    "tab_ami_fnn"
   ]
  },
  {
   "cell_type": "markdown",
   "id": "30a4485a",
   "metadata": {},
   "source": [
    "# PECUZAL method\n",
    "The results for PECUZAL are computed using matlab and are only uploaded here. The result of PECUZAL are stored in a format suitable to club them with the MAPSR and AMI-FNN results."
   ]
  },
  {
   "cell_type": "code",
   "execution_count": null,
   "id": "228befc3",
   "metadata": {},
   "outputs": [],
   "source": [
    "pecuzal_csv = 'Other_Methods/PECUZAL_results/PECUZAL_Lorenz_x.csv'"
   ]
  },
  {
   "cell_type": "code",
   "execution_count": null,
   "id": "6c211170",
   "metadata": {},
   "outputs": [],
   "source": [
    "tab_pecuzal = pecuzal.create_table(param_file, pecuzal_csv, ppm.n_var, ppm.var_names, norm_fact)\n",
    "tab_pecuzal"
   ]
  },
  {
   "cell_type": "markdown",
   "id": "d6980c15",
   "metadata": {},
   "source": [
    "# Club results from AMI-FNN, MAPSR, and PECUZAL methods "
   ]
  },
  {
   "cell_type": "code",
   "execution_count": null,
   "id": "0b4a3f89",
   "metadata": {},
   "outputs": [],
   "source": [
    "table = pd.concat((tab_mapsr, tab_ami_fnn, tab_pecuzal))\n",
    "table"
   ]
  },
  {
   "cell_type": "markdown",
   "id": "a0003c1c",
   "metadata": {},
   "source": [
    "# Pivot the table and save it in csv and latex files"
   ]
  },
  {
   "cell_type": "code",
   "execution_count": null,
   "id": "3bbade92",
   "metadata": {},
   "outputs": [],
   "source": [
    "table = table.reset_index().drop('index', axis=1)\n",
    "\n",
    "# Pivot\n",
    "table_save = pd.pivot_table(table, index = table.columns.to_list())\n",
    "\n",
    "# Save\n",
    "table_save.to_csv(base_fld+'/table.csv')\n",
    "table_save.style.to_latex(base_fld+'/table.tex')\n",
    "table_save"
   ]
  },
  {
   "cell_type": "markdown",
   "id": "1eefda9b",
   "metadata": {},
   "source": [
    "# Phase space "
   ]
  },
  {
   "cell_type": "code",
   "execution_count": null,
   "id": "43aa25a2",
   "metadata": {},
   "outputs": [],
   "source": [
    "import os\n",
    "param_df = ppm.param_df\n",
    "catagory = ppm.loss_average\n",
    "catagory_keys = catagory.keys()\n",
    "data_files = ppm.get_data_files()"
   ]
  },
  {
   "cell_type": "code",
   "execution_count": null,
   "id": "374e7fdf",
   "metadata": {},
   "outputs": [],
   "source": [
    "idx_arr = ppm.get_min_loss_idx()"
   ]
  },
  {
   "cell_type": "code",
   "execution_count": null,
   "id": "044775c5",
   "metadata": {},
   "outputs": [],
   "source": [
    "fig = plt.figure(figsize=(17,12))\n",
    "\n",
    "color_1 = ['darkgreen', 'darkblue'   , 'brown']\n",
    "color_2 = ['magenta'  , 'deepskyblue', 'darkorange']\n",
    "\n",
    "\n",
    "delay_id = [[(0,0), (0,1), (0,2)],  # Here, (i,j) represents \\tau_{i,j}, i.e. j^{th} delay for i^{th} time series \n",
    "            [(0,0), (0,1)],\n",
    "            [(0,0), (0,1)],\n",
    "            [(0,0), (0,1)],\n",
    "            [(0,0), (0,1)],\n",
    "            [(0,0), (0,1)]]\n",
    "\n",
    "post_process_mapsr.plot_attractor(  fig        = fig, \n",
    "                                    n_row      = 2, \n",
    "                                    n_col      = 3, \n",
    "                                    data_files = ppm.get_data_files(), \n",
    "                                    param_df   = ppm.param_df, \n",
    "                                    idx_arr    = idx_arr, \n",
    "                                    case_names = ppm.case_names,\n",
    "                                    var_names  = ppm.var_names, \n",
    "                                    color_true = color_1, \n",
    "                                    color_pred = color_2, \n",
    "                                    delay_id   = delay_id, \n",
    "                                    iter_plot  = 20000,  \n",
    "                                    tab_sup    = tab_mapsr_pd)\n",
    "\n",
    "fig.savefig(base_fld+'/attractor_exp.pdf')"
   ]
  },
  {
   "cell_type": "markdown",
   "id": "74bc245d",
   "metadata": {},
   "source": [
    "# Comparison with Lyapunov time scale"
   ]
  },
  {
   "cell_type": "markdown",
   "id": "79ddffa4",
   "metadata": {},
   "source": [
    "Refer these data_files for creating data_files_lyapunov."
   ]
  },
  {
   "cell_type": "code",
   "execution_count": null,
   "id": "2b789726",
   "metadata": {},
   "outputs": [],
   "source": [
    "data_files"
   ]
  },
  {
   "cell_type": "code",
   "execution_count": null,
   "id": "28052410",
   "metadata": {},
   "outputs": [],
   "source": [
    "param_df = ppm.param_df\n",
    "tab_sup = tab_mapsr_pd\n",
    "tab_sup\n"
   ]
  },
  {
   "cell_type": "code",
   "execution_count": null,
   "id": "784f65a9",
   "metadata": {},
   "outputs": [],
   "source": [
    "data_files_lyapunov = data_files[[0,1,2,3,4,5]]\n",
    "tab_rows = [0,1,2,3,4,5]\n",
    "lyapunov_exponents = np.array([0.8759, 0.8759, 0.8759, 0.8759, 0.8759, 0.8759])  # Obtained from matlab\n",
    "T_ly = 1/ lyapunov_exponents"
   ]
  },
  {
   "cell_type": "code",
   "execution_count": null,
   "id": "9bf77987",
   "metadata": {},
   "outputs": [],
   "source": [
    "case_names_lyapunov = post_process_mapsr.get_selective_case_names(ppm.case_names, data_files_lyapunov)\n",
    "case_names_lyapunov"
   ]
  },
  {
   "cell_type": "code",
   "execution_count": null,
   "id": "c014799f",
   "metadata": {},
   "outputs": [],
   "source": [
    "\n",
    "batch_time_mul = 20\n",
    "z_true_batch, z_pred_batch, loss_batch, loss_batch_avg, t_batch, diameter = post_process_mapsr.get_loss_evolution_in_time(param_df, \n",
    "                                                                                                                        tab_mapsr_pd, \n",
    "                                                                                                                        idx_arr, \n",
    "                                                                                                                        data_files_lyapunov, \n",
    "                                                                                                                        T_ly, \n",
    "                                                                                                                        ppm.var_names, \n",
    "                                                                                                                        tab_rows, \n",
    "                                                                                                                        batch_time_mul)"
   ]
  },
  {
   "cell_type": "code",
   "execution_count": null,
   "id": "5bfa8852",
   "metadata": {},
   "outputs": [],
   "source": [
    "figsize = [12,6]\n",
    "post_process_mapsr.plot_loss_evolution( figsize, \n",
    "                                        case_names_lyapunov, \n",
    "                                        data_files_lyapunov, \n",
    "                                        z_true_batch, \n",
    "                                        z_pred_batch, \n",
    "                                        loss_batch, \n",
    "                                        t_batch, \n",
    "                                        id_in=0, \n",
    "                                        color=color_1,\n",
    "                                        output_fld = base_fld)"
   ]
  },
  {
   "cell_type": "code",
   "execution_count": null,
   "id": "a4a3e3a4",
   "metadata": {},
   "outputs": [],
   "source": [
    "case_names_lyapunov"
   ]
  },
  {
   "cell_type": "code",
   "execution_count": null,
   "id": "adc2abc8",
   "metadata": {},
   "outputs": [],
   "source": [
    "data_files_lyapunov"
   ]
  },
  {
   "cell_type": "code",
   "execution_count": null,
   "id": "0cecfe24",
   "metadata": {},
   "outputs": [],
   "source": [
    "color = ['darkgreen','magenta']\n",
    "y_lim = [-0.01,0.4]\n",
    "figsize = [15,8]\n",
    "fig = plt.figure(figsize= figsize)\n",
    "post_process_mapsr.plot_loss_evolution_average(fig, \n",
    "                                               n_row = 2,\n",
    "                                               n_col = 3,\n",
    "                                               case_names = ppm.case_names, \n",
    "                                               data_files_in = data_files_lyapunov, \n",
    "                                               loss_avg_in = loss_batch_avg, \n",
    "                                               t_in = t_batch, \n",
    "                                               diameter = diameter, \n",
    "                                               color = color, \n",
    "                                               ylim = y_lim,\n",
    "                                               output_fld = base_fld)"
   ]
  },
  {
   "cell_type": "markdown",
   "id": "815c3cf1",
   "metadata": {},
   "source": [
    "# Make video"
   ]
  },
  {
   "cell_type": "markdown",
   "id": "f95ff2bc",
   "metadata": {},
   "source": [
    "Makes video of phase space during training."
   ]
  },
  {
   "cell_type": "code",
   "execution_count": null,
   "id": "8d6f9f5e",
   "metadata": {},
   "outputs": [],
   "source": [
    "import os\n",
    "import io\n",
    "import gc\n",
    "import PIL.Image as Image\n",
    "import moviepy.video.io.ImageSequenceClip as movie_maker\n",
    "fps=5"
   ]
  },
  {
   "cell_type": "code",
   "execution_count": null,
   "id": "0092f2f8-9bd2-4b8c-bdfd-3957932bf91f",
   "metadata": {},
   "outputs": [],
   "source": [
    "def plot_cmp(fig, title, kk, tt,zt, tp,zp, τ, dpi = 300):\n",
    "    cpu = torch.device('cpu')\n",
    "\n",
    "    right = 0.6\n",
    "    top   = 0.8\n",
    "    \n",
    "    fig.clf()\n",
    "    fig.suptitle(title, fontsize=25)\n",
    "    if zt.shape[2]==1:\n",
    "        axs_arr = fig.add_subplot(1,1,1)\n",
    "        for p_id in range(zt.shape[2]-1):\n",
    "            axs_arr.plot(zt[:, p_id, 0].to(cpu).detach().numpy(),'k-')\n",
    "            axs_arr.plot(zp[:, p_id, 0].to(cpu).detach().numpy(),'r--', linewidth=2)\n",
    "            axs_arr.set_ylabel('$x(t)$',fontsize=20)\n",
    "        axs_arr.set_xlabel('$t_{id}$',fontsize=20)\n",
    "\n",
    "    else:\n",
    "        axs_arr = [fig.add_subplot(zt.shape[2]-1,1,i+1) for i in range(zt.shape[2]-1)] \n",
    "        axs_arr[0].set_title(title, fontsize=25)\n",
    "        for i in range(zt.shape[2]-1):\n",
    "            for p_id in range(zp.shape[1]):\n",
    "                axs_arr[i].plot(zt[:, p_id, 0].to(cpu).detach().numpy(), zt[:, p_id, i+1].to(cpu).detach().numpy(),'k-')\n",
    "                axs_arr[i].plot(zp[:, p_id, 0].to(cpu).detach().numpy(), zp[:, p_id, i+1].to(cpu).detach().numpy(),'r--', linewidth=2)    \n",
    "                axs_arr[i].set_ylabel('$x(t+\\\\tau_'+str(i+1)+'$)',fontsize=20)\n",
    "        \n",
    "        axs_arr[i].set_xlabel('x(t)',fontsize=20)\n",
    "    \n",
    "    fig.tight_layout()\n",
    "    fig.subplots_adjust(wspace=0.4,\n",
    "                        hspace=0.4) \n",
    "    \n",
    "    #========== convert fig to bitstream and convert to numpy array \n",
    "    buffer = io.BytesIO()\n",
    "    fig.savefig(buffer, format='png', dpi = dpi)\n",
    "    buffer.seek(0)\n",
    "    im = Image.open(buffer)\n",
    "    im_np = np.asarray(im)\n",
    "    #im.show()\n",
    "    buffer.close()\n",
    "    return im_np\n",
    "\n",
    "        "
   ]
  },
  {
   "cell_type": "code",
   "execution_count": null,
   "id": "be4fbb6d",
   "metadata": {},
   "outputs": [],
   "source": [
    "fig = []\n",
    "img_np = []\n",
    "img_data = []"
   ]
  },
  {
   "cell_type": "markdown",
   "id": "0b498bf9",
   "metadata": {},
   "source": [
    "While creating video it may take more memory. Ideally we want to create video fo all cases, i.e. range(len(param_df)). Due to memory constraints instrad of creating videos for all cases at a time create video for small number of cases."
   ]
  },
  {
   "cell_type": "code",
   "execution_count": null,
   "id": "11c47609",
   "metadata": {},
   "outputs": [],
   "source": [
    "for i in range(0,1):#len(param_df)):\n",
    "    \n",
    "    args_all = ppm.args_all\n",
    "    folder = args_all[i].folder\n",
    "    print(folder)\n",
    "    print(folder+'/video.avi')\n",
    "    img_arr = []\n",
    "    fig = plt.figure()\n",
    "    \n",
    "    for j in range(0,args_all[i].niters,args_all[i].test_freq):\n",
    "        img_pkl = './'+folder+'/comp_pred_'+str(j)+'.pkl'\n",
    "        if os.path.exists(img_pkl):\n",
    "            \n",
    "            with open(img_pkl,'rb') as fl:\n",
    "                img_data = pkl.load(fl)\n",
    "            \n",
    "            img_np = plot_cmp(fig, title=img_data[0], \n",
    "                                   kk   =img_data[1], \n",
    "                                   tt   =img_data[2],\n",
    "                                   zt   =img_data[3], \n",
    "                                   tp   =img_data[4],\n",
    "                                   zp   =img_data[5], \n",
    "                                   τ    =img_data[6])                        \n",
    "            \n",
    "            img_arr.append(img_np)\n",
    "    step = 1\n",
    "    clip = movie_maker.ImageSequenceClip(img_arr[0::step], fps=fps)\n",
    "    clip.write_videofile('./'+folder+'/video.mp4')\n",
    "    \n",
    "    gc.collect()\n"
   ]
  }
 ],
 "metadata": {
  "kernelspec": {
   "display_name": "python310_venv",
   "language": "python",
   "name": "python310_venv"
  },
  "language_info": {
   "codemirror_mode": {
    "name": "ipython",
    "version": 3
   },
   "file_extension": ".py",
   "mimetype": "text/x-python",
   "name": "python",
   "nbconvert_exporter": "python",
   "pygments_lexer": "ipython3",
   "version": "3.10.12"
  }
 },
 "nbformat": 4,
 "nbformat_minor": 5
}
